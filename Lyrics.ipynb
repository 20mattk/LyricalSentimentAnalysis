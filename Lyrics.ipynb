{
 "cells": [
  {
   "cell_type": "code",
   "execution_count": 1,
   "id": "1325293b-551b-4bfc-a02f-9787ebb0ef5f",
   "metadata": {},
   "outputs": [],
   "source": [
    "from pytube import YouTube\n",
    "from pydub import AudioSegment\n",
    "import os\n",
    "import speech_recognition as sr\n",
    "import wave"
   ]
  },
  {
   "cell_type": "code",
   "execution_count": 2,
   "id": "3a5159d6-170d-46a8-a9dc-d95cf5441b6d",
   "metadata": {},
   "outputs": [],
   "source": [
    "def mp4_to_wav(input_file, output_file):\n",
    "    audio = AudioSegment.from_file(input_file)\n",
    "    \n",
    "    audio = audio.set_channels(1)\n",
    "    audio = audio.set_sample_width(2)\n",
    "    audio = audio.set_frame_rate(16000)\n",
    "\n",
    "    audio.export(output_file, format=\"wav\")\n",
    "\n",
    "    os.remove(input_file)\n",
    "\n",
    "\n",
    "def verify_audio_format(wav_file):\n",
    "    with wave.open(wav_file, 'rb') as file:\n",
    "        if (wav_file.lower().endswith('.wav') and \n",
    "            file.getnchannels() == 1 and\n",
    "            file.getsampwidth() == 2 and\n",
    "            file.getframerate() == 16000):\n",
    "            print('\\nFile is in correct format.\\n')\n",
    "            return True\n",
    "        else:\n",
    "            print('\\nFile is not in correct format.\\n')\n",
    "            return False\n",
    "\n",
    "\n",
    "def download_youtube_audio(url, output_path):\n",
    "    return YouTube(url).streams.filter(only_audio=True).first().download(\n",
    "        output_path=output_path\n",
    "    )\n",
    "\n",
    "\n",
    "def transcribe_audio(wav_file):\n",
    "    if not verify_audio_format(wav_file):\n",
    "        raise Exception('Cannot transcribe audio with invalid file format.')\n",
    "        \n",
    "    speech_recognizer = sr.Recognizer()\n",
    "\n",
    "    with sr.AudioFile(wav_file) as file:\n",
    "        audio = speech_recognizer.record(file)\n",
    "\n",
    "    try:\n",
    "        text = speech_recognizer.recognize_sphinx(audio)\n",
    "        return text\n",
    "    except Exception as e:\n",
    "        print('Unable to transcribe audio.')\n",
    "        print(e)"
   ]
  },
  {
   "cell_type": "code",
   "execution_count": 3,
   "id": "fb4da017-81a7-487a-9806-8c0ea2acbbfb",
   "metadata": {},
   "outputs": [
    {
     "name": "stdout",
     "output_type": "stream",
     "text": [
      "DOWNLOADED FILE: /Users/mattkarenbauer/Coding/Data Science/LyricalSentimentAnalysis/Output/Small Talk  Everyday English.mp4\n",
      "OUTPUT FILE: Output/Small Talk  Everyday English.wav\n",
      "CONVERTED FILE: Output/Small Talk  Everyday English.wav\n",
      "\n",
      "File is in correct format.\n",
      "\n",
      "but the so what's new mark how was your new job going to be honest i can't complain i really love the company that i am working for my co workers are all really friendly and helpful they really helped me feel welcome if they're really energetic and find on this here in my boss beutel areas and he's really flexible really how so he allows me to come in when i want and make my own al words i can also leave early if i start early there is no real dress code either i can wear jeans and a t. shirt if i wanted to i didn't even wear shorts in the summer while it sounds you really cool mikey it's the end wearing a suit every day which do you prefer working late or finish in the early i prefer finishing early i really enjoy the morning i love getting up early and going for ryan there's nothing like watching the sunrise will drinking my morning coffee really i am opposite i love sleeping and i am the most alert in the evenings i'm oriole night owl well you know what they say the early bird catches the worm you know you could be right maybe i will try to go to bed all little earlier tonight at the head of the\n"
     ]
    }
   ],
   "source": [
    "# url = 'https://www.youtube.com/watch?v=pat2-f0BXCg'\n",
    "url = 'https://www.youtube.com/watch?v=ry9SYnV3svc'\n",
    "\n",
    "# create the output directory to house audio file downloads\n",
    "output_path = 'Output/'\n",
    "os.makedirs(output_path, exist_ok=True)\n",
    "\n",
    "# convert and download an audio file (in .mp4 format) from a youtube url\n",
    "mp4_file = download_youtube_audio(url, output_path)\n",
    "print('DOWNLOADED FILE:', mp4_file)\n",
    "\n",
    "# get the name of the file without file path or file extension\n",
    "file_name, _ = os.path.splitext(os.path.basename(mp4_file))\n",
    "\n",
    "# set the full path of the .wav file for the audio\n",
    "wav_file = os.path.join(output_path, file_name + '.wav')\n",
    "print('OUTPUT FILE:', wav_file)\n",
    "\n",
    "# convert the file from .mp4 to .wav\n",
    "mp4_to_wav(mp4_file, wav_file)\n",
    "del mp4_file\n",
    "print('CONVERTED FILE:', wav_file)\n",
    "\n",
    "# transcribe the .wav audio file into text\n",
    "transcription = transcribe_audio(wav_file)\n",
    "print(transcription)"
   ]
  },
  {
   "cell_type": "code",
   "execution_count": null,
   "id": "60385d9c-7745-4e13-8627-16fafaf5a6f6",
   "metadata": {},
   "outputs": [],
   "source": []
  }
 ],
 "metadata": {
  "kernelspec": {
   "display_name": "Python [conda env:cmu] *",
   "language": "python",
   "name": "conda-env-cmu-py"
  },
  "language_info": {
   "codemirror_mode": {
    "name": "ipython",
    "version": 3
   },
   "file_extension": ".py",
   "mimetype": "text/x-python",
   "name": "python",
   "nbconvert_exporter": "python",
   "pygments_lexer": "ipython3",
   "version": "3.9.18"
  }
 },
 "nbformat": 4,
 "nbformat_minor": 5
}
