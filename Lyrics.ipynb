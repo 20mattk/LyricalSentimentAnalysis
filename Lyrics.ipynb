{
 "cells": [
  {
   "cell_type": "code",
   "execution_count": 34,
   "id": "1325293b-551b-4bfc-a02f-9787ebb0ef5f",
   "metadata": {},
   "outputs": [],
   "source": [
    "from pytube import YouTube\n",
    "from pydub import AudioSegment\n",
    "import os"
   ]
  },
  {
   "cell_type": "code",
   "execution_count": 35,
   "id": "3a5159d6-170d-46a8-a9dc-d95cf5441b6d",
   "metadata": {},
   "outputs": [],
   "source": [
    "def youtube_to_wav(url, output_path):\n",
    "    mp4_file = YouTube(url).streams.filter(only_audio=True).first().download(\n",
    "        output_path=output_path\n",
    "    )\n",
    "    \n",
    "    wav_file = os.path.splitext(mp4_file)[0] + \".wav\"\n",
    "    \n",
    "    AudioSegment.from_file(mp4_file).export(wav_file, format=\"wav\")\n",
    "    \n",
    "    os.remove(mp4_file)\n",
    "    \n",
    "    return wav_file"
   ]
  },
  {
   "cell_type": "code",
   "execution_count": 36,
   "id": "fb4da017-81a7-487a-9806-8c0ea2acbbfb",
   "metadata": {},
   "outputs": [],
   "source": [
    "url = 'https://www.youtube.com/watch?v=pat2-f0BXCg'\n",
    "output = './Output/'\n",
    "\n",
    "wav_file = youtube_to_wav(url, output)"
   ]
  },
  {
   "cell_type": "code",
   "execution_count": null,
   "id": "a0f388c0-906c-4bcc-a828-b88eb666a749",
   "metadata": {},
   "outputs": [],
   "source": []
  }
 ],
 "metadata": {
  "kernelspec": {
   "display_name": "Python [conda env:cmu] *",
   "language": "python",
   "name": "conda-env-cmu-py"
  },
  "language_info": {
   "codemirror_mode": {
    "name": "ipython",
    "version": 3
   },
   "file_extension": ".py",
   "mimetype": "text/x-python",
   "name": "python",
   "nbconvert_exporter": "python",
   "pygments_lexer": "ipython3",
   "version": "3.9.18"
  }
 },
 "nbformat": 4,
 "nbformat_minor": 5
}
