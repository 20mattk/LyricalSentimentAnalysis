{
 "cells": [
  {
   "cell_type": "markdown",
   "id": "c8c32fb7-3af9-4f43-906e-717219926806",
   "metadata": {},
   "source": [
    "# Imports"
   ]
  },
  {
   "cell_type": "code",
   "execution_count": 1,
   "id": "1325293b-551b-4bfc-a02f-9787ebb0ef5f",
   "metadata": {},
   "outputs": [
    {
     "name": "stderr",
     "output_type": "stream",
     "text": [
      "/Users/mattkarenbauer/anaconda3/envs/spleeter/lib/python3.8/site-packages/tqdm/auto.py:21: TqdmWarning: IProgress not found. Please update jupyter and ipywidgets. See https://ipywidgets.readthedocs.io/en/stable/user_install.html\n",
      "  from .autonotebook import tqdm as notebook_tqdm\n"
     ]
    }
   ],
   "source": [
    "from pytube import YouTube\n",
    "from pydub import AudioSegment\n",
    "import os\n",
    "import whisper\n",
    "import wave\n",
    "from spleeter.separator import Separator\n",
    "import tensorflow as tf\n",
    "from flair.models import TextClassifier\n",
    "from flair.data import Sentence\n",
    "import warnings\n",
    "\n",
    "tf.get_logger().setLevel('ERROR')\n",
    "warnings.filterwarnings(\"ignore\", message=\"Process SpawnPoolWorker\")"
   ]
  },
  {
   "cell_type": "markdown",
   "id": "f61fe350-37c5-4ac7-af13-36485610510b",
   "metadata": {},
   "source": [
    "# Functions"
   ]
  },
  {
   "cell_type": "code",
   "execution_count": 2,
   "id": "3a5159d6-170d-46a8-a9dc-d95cf5441b6d",
   "metadata": {},
   "outputs": [],
   "source": [
    "def transform_audio_format(input_file_path, output_dir_path):\n",
    "    \"\"\"\n",
    "    Transforms an unspecified audio file into .wav format with mono channels,\n",
    "    a 2 byte channel width, and 16000 Hz.\n",
    "\n",
    "    :param input_file_path: a string path of the file to be formatted\n",
    "    :param output_dir_path: a string path of the directory to save the new .wav\n",
    "    :returns: N/A\n",
    "    \"\"\"\n",
    "    audio = AudioSegment.from_file(input_file_path)\n",
    "    \n",
    "    audio = audio.set_channels(1)\n",
    "    audio = audio.set_sample_width(2)\n",
    "    audio = audio.set_frame_rate(16000)\n",
    "\n",
    "    audio.export(output_dir_path, format=\"wav\")\n",
    "\n",
    "\n",
    "def verify_audio_format(audio_file_path):\n",
    "    \"\"\"\n",
    "    Verifies that an audio file has the format of mono, 2 byte channel width,\n",
    "    16000 Hz, and .wav extension.\n",
    "\n",
    "    :param audio_file_path: a string path of the file to be verified\n",
    "    :returns: N/A\n",
    "    \"\"\"\n",
    "    with wave.open(audio_file_path, 'rb') as file:\n",
    "        if (audio_file_path.lower().endswith('.wav') and \n",
    "            file.getnchannels() == 1 and\n",
    "            file.getsampwidth() == 2 and\n",
    "            file.getframerate() == 16000):\n",
    "            print('\\nFile is in correct format.\\n')\n",
    "            return True\n",
    "        else:\n",
    "            print('\\nFile is not in correct format.\\n')\n",
    "            return False\n",
    "\n",
    "\n",
    "def download_youtube_audio(url, output_dir_path):\n",
    "    \"\"\"\n",
    "    Downloads the audio of a YouTube URL in .mp4 format.\n",
    "\n",
    "    :param url: a string of the YouTube URL\n",
    "    :param output_dir_path: a string path of the directory to save the new .wav\n",
    "    :returns: a string path to the .mp4 of the YouTube video\n",
    "    \"\"\"\n",
    "    return YouTube(url).streams.filter(only_audio=True).first().download(\n",
    "        output_path=output_dir_path\n",
    "    )\n",
    "\n",
    "\n",
    "def transcribe_audio(vocal_file_path):\n",
    "    \"\"\"\n",
    "    Transctibes the vocal \n",
    "\n",
    "    :param url: a string of the YouTube URL\n",
    "    :param output_dir_path: a string path of the directory to save the new .wav\n",
    "    :returns: a string path to the .mp4 of the YouTube video\n",
    "    \"\"\"\n",
    "    if not verify_audio_format(vocal_file_path):\n",
    "        raise Exception('Cannot transcribe audio with invalid file format.')\n",
    "\n",
    "    base_model = whisper.load_model('medium')\n",
    "\n",
    "    try:\n",
    "        transcription = base_model.transcribe(vocal_file_path)\n",
    "        return transcription['text']\n",
    "    except Exception as e:\n",
    "        print('Unable to transcribe audio.')\n",
    "        print(e)"
   ]
  },
  {
   "cell_type": "markdown",
   "id": "47e17776-bb14-4575-b803-685f183fe719",
   "metadata": {},
   "source": [
    "# Download YouTube Audio and Convert the Format"
   ]
  },
  {
   "cell_type": "code",
   "execution_count": 3,
   "id": "fb4da017-81a7-487a-9806-8c0ea2acbbfb",
   "metadata": {},
   "outputs": [
    {
     "name": "stdout",
     "output_type": "stream",
     "text": [
      "DOWNLOADED FILE: Wonderwall.mp4\n",
      "CONVERTED FILE: Output/Wonderwall.wav\n"
     ]
    }
   ],
   "source": [
    "url = 'https://www.youtube.com/watch?v=FVdjZYfDuLE' # Wonderwall - Oasis\n",
    "\n",
    "# create the output directory to house audio file downloads\n",
    "output_dir_path = 'Output/'\n",
    "os.makedirs(output_dir_path, exist_ok=True)\n",
    "\n",
    "# convert and download an audio file (in .mp4 format) from a youtube url\n",
    "mp4_file_path = download_youtube_audio(url, output_dir_path)\n",
    "try: print('DOWNLOADED FILE:', mp4_file_path.split('/')[-1])\n",
    "except: print('DOWNLOADED FILE:', mp4_file_path.split('\\\\')[-1])\n",
    "\n",
    "# get the name of the file without file path or file extension\n",
    "file_name, _ = os.path.splitext(os.path.basename(mp4_file_path))\n",
    "\n",
    "# set the full path of the .wav file for the audio\n",
    "wav_file_path = os.path.join(output_dir_path, file_name + '.wav')\n",
    "\n",
    "# convert the file from .mp4 to .wav\n",
    "transform_audio_format(mp4_file_path, wav_file_path)\n",
    "print('CONVERTED FILE:', wav_file_path)"
   ]
  },
  {
   "cell_type": "markdown",
   "id": "f84dcf40-4048-4009-832e-ccc87adeac6d",
   "metadata": {},
   "source": [
    "# Separate the Vocals from the music"
   ]
  },
  {
   "cell_type": "code",
   "execution_count": 4,
   "id": "257bf24b-cabb-4f4b-8d89-881df98c3843",
   "metadata": {},
   "outputs": [
    {
     "name": "stdout",
     "output_type": "stream",
     "text": [
      "INFO:spleeter:File Output/Wonderwall/accompaniment.wav written succesfully\n",
      "INFO:spleeter:File Output/Wonderwall/vocals.wav written succesfully\n"
     ]
    }
   ],
   "source": [
    "separator = Separator('spleeter:2stems')\n",
    "separator.separate_to_file(wav_file_path, 'Output/');"
   ]
  },
  {
   "cell_type": "code",
   "execution_count": 5,
   "id": "b7a4b3ed-653e-4186-b998-1d990aebe23f",
   "metadata": {},
   "outputs": [],
   "source": [
    "vocals_file_path = f\"Output/{file_name}/vocals.wav\"\n",
    "accompaniment_file_path = f\"Output/{file_name}/accompaniment.wav\""
   ]
  },
  {
   "cell_type": "markdown",
   "id": "6d2eca2c-f6a7-4054-a89b-5b45be4b925f",
   "metadata": {},
   "source": [
    "# Transcribe the Vocal Track"
   ]
  },
  {
   "cell_type": "code",
   "execution_count": 6,
   "id": "f2f524c8-a4b8-4edc-a45e-7befd491bcbc",
   "metadata": {},
   "outputs": [
    {
     "name": "stdout",
     "output_type": "stream",
     "text": [
      "\n",
      "File is in correct format.\n",
      "\n"
     ]
    },
    {
     "name": "stderr",
     "output_type": "stream",
     "text": [
      "/Users/mattkarenbauer/anaconda3/envs/spleeter/lib/python3.8/site-packages/whisper/transcribe.py:115: UserWarning: FP16 is not supported on CPU; using FP32 instead\n",
      "  warnings.warn(\"FP16 is not supported on CPU; using FP32 instead\")\n"
     ]
    },
    {
     "name": "stdout",
     "output_type": "stream",
     "text": [
      " Today is gonna be the day that they're gonna throw it back to you I don't believe that anybody feels the way I do about you now Backbeat the word is on the street that the fire in your heart is out I'm sure you've heard it all before but you never really had a doubt I don't believe that anybody feels the way I do about you now And all the roads we have to walk are winding And all the lights I need to stare at blinding There are many things that I would like to say to you but I don't know how Cos maybe you're gonna be the one that saves me And after all you're my Wonderwall Today is gonna be the day that they're gonna throw it back to you By now you should have somehow realized what you're not to do I don't believe that anybody feels the way I do about you now And all the roads that lead you there were winding And all the lights that light the way of blinding There are many things that I would like to say to you but I don't know how Cos maybe you're gonna be the one that saves me And after all you're my Wonderwall I said maybe you're gonna be the one that saves me And after all you're my Wonderwall I said maybe you're gonna be the one that saves me You're gonna be the one that saves me You're gonna be the one that saves me You're gonna be the one that saves me\n"
     ]
    }
   ],
   "source": [
    "transform_audio_format(vocals_file_path, vocals_file_path)\n",
    "\n",
    "transcription = transcribe_audio(vocals_file_path)\n",
    "print(transcription)"
   ]
  },
  {
   "cell_type": "code",
   "execution_count": 7,
   "id": "14929087-29ac-4b49-bc36-4cccdb98a822",
   "metadata": {},
   "outputs": [],
   "source": [
    "transcription_file_path = f\"Output/{file_name}/transcription.txt\"\n",
    "\n",
    "with open(transcription_file_path, 'w') as file:\n",
    "    file.write(transcription)"
   ]
  },
  {
   "cell_type": "markdown",
   "id": "fde53b98-14ec-419f-b542-acc67a7ff7d5",
   "metadata": {},
   "source": [
    "# Give a Sentiment Score to the Transcription"
   ]
  },
  {
   "cell_type": "code",
   "execution_count": 8,
   "id": "31be36c3-822f-4273-a262-238599d9f48a",
   "metadata": {},
   "outputs": [
    {
     "name": "stdout",
     "output_type": "stream",
     "text": [
      "['Sentence[286]: \" Today is gonna be the day that they're gonna throw it back to you I don't believe that anybody feels the way I do about you now Backbeat the word is on the street that the fire in your heart is out I'm sure you've heard it all before but you never really had a doubt I don't believe that anybody feels the way I do about you now And all the roads we have to walk are winding And all the lights I need to stare at blinding There are many things that I would like to say to you but I don't know how Cos maybe you're gonna be the one that saves me And after all you're my Wonderwall Today is gonna be the day that they're gonna throw it back to you By now you should have somehow realized what you're not to do I don't believe that anybody feels the way I do about you now And all the roads that lead you there were winding And all the lights that light the way of blinding There are many things that I would like to say to you but I don't know how Cos maybe you're gonna be the one that saves me And after all you're my Wonderwall I said maybe you're gonna be the one that saves me And after all you're my Wonderwall I said maybe you're gonna be the one that saves me You're gonna be the one that saves me You're gonna be the one that saves me You're gonna be the one that saves me\"'/'POSITIVE' (0.6922)]\n"
     ]
    }
   ],
   "source": [
    "# download the english sentiment model\n",
    "sentiment_model = TextClassifier.load('en-sentiment')\n",
    "\n",
    "# DESCRIBE WHAT THIS \"Sentence\" DOES\n",
    "sentence = Sentence(transcription)\n",
    "\n",
    "# DESCRIBE WHAT THIS 'Predict' does\n",
    "sentiment_model.predict(sentence)\n",
    "\n",
    "# display the lyrics with its sentiment score\n",
    "print(sentence.labels)"
   ]
  }
 ],
 "metadata": {
  "kernelspec": {
   "display_name": "Python [conda env:spleeter] *",
   "language": "python",
   "name": "conda-env-spleeter-py"
  },
  "language_info": {
   "codemirror_mode": {
    "name": "ipython",
    "version": 3
   },
   "file_extension": ".py",
   "mimetype": "text/x-python",
   "name": "python",
   "nbconvert_exporter": "python",
   "pygments_lexer": "ipython3",
   "version": "3.8.19"
  }
 },
 "nbformat": 4,
 "nbformat_minor": 5
}
