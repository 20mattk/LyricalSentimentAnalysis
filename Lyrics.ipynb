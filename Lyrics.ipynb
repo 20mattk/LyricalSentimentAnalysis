{
 "cells": [
  {
   "cell_type": "markdown",
   "id": "c8c32fb7-3af9-4f43-906e-717219926806",
   "metadata": {},
   "source": [
    "# Imports"
   ]
  },
  {
   "cell_type": "code",
   "execution_count": 1,
   "id": "1325293b-551b-4bfc-a02f-9787ebb0ef5f",
   "metadata": {},
   "outputs": [],
   "source": [
    "from pytube import YouTube\n",
    "from pydub import AudioSegment\n",
    "import os\n",
    "import whisper\n",
    "import wave\n",
    "from spleeter.separator import Separator\n",
    "import tensorflow as tf\n",
    "tf.get_logger().setLevel('ERROR')"
   ]
  },
  {
   "cell_type": "markdown",
   "id": "f61fe350-37c5-4ac7-af13-36485610510b",
   "metadata": {},
   "source": [
    "# Functions"
   ]
  },
  {
   "cell_type": "code",
   "execution_count": 2,
   "id": "3a5159d6-170d-46a8-a9dc-d95cf5441b6d",
   "metadata": {},
   "outputs": [],
   "source": [
    "def transform_audio_format(input_file_path, output_dir_path):\n",
    "    \"\"\"\n",
    "    Transforms an unspecified audio file into .wav format with mono channels,\n",
    "    a 2 byte channel width, and 16000 Hz.\n",
    "\n",
    "    :param input_file_path: a string path of the file to be formatted\n",
    "    :param output_dir_path: a string path of the directory to save the new .wav\n",
    "    :returns: N/A\n",
    "    \"\"\"\n",
    "    audio = AudioSegment.from_file(input_file_path)\n",
    "    \n",
    "    audio = audio.set_channels(1)\n",
    "    audio = audio.set_sample_width(2)\n",
    "    audio = audio.set_frame_rate(16000)\n",
    "\n",
    "    audio.export(output_dir_path, format=\"wav\")\n",
    "\n",
    "\n",
    "def verify_audio_format(audio_file_path):\n",
    "    \"\"\"\n",
    "    Verifies that an audio file has the format of mono, 2 byte channel width,\n",
    "    16000 Hz, and .wav extension.\n",
    "\n",
    "    :param audio_file_path: a string path of the file to be verified\n",
    "    :returns: N/A\n",
    "    \"\"\"\n",
    "    with wave.open(audio_file_path, 'rb') as file:\n",
    "        if (audio_file_path.lower().endswith('.wav') and \n",
    "            file.getnchannels() == 1 and\n",
    "            file.getsampwidth() == 2 and\n",
    "            file.getframerate() == 16000):\n",
    "            print('\\nFile is in correct format.\\n')\n",
    "            return True\n",
    "        else:\n",
    "            print('\\nFile is not in correct format.\\n')\n",
    "            return False\n",
    "\n",
    "\n",
    "def download_youtube_audio(url, output_dir_path):\n",
    "    \"\"\"\n",
    "    Downloads the audio of a YouTube URL in .mp4 format.\n",
    "\n",
    "    :param url: a string of the YouTube URL\n",
    "    :param output_dir_path: a string path of the directory to save the new .wav\n",
    "    :returns: a string path to the .mp4 of the YouTube video\n",
    "    \"\"\"\n",
    "    return YouTube(url).streams.filter(only_audio=True).first().download(\n",
    "        output_path=output_dir_path\n",
    "    )\n",
    "\n",
    "\n",
    "def transcribe_audio(vocal_file_path):\n",
    "    \"\"\"\n",
    "    Transctibes the vocal \n",
    "\n",
    "    :param url: a string of the YouTube URL\n",
    "    :param output_dir_path: a string path of the directory to save the new .wav\n",
    "    :returns: a string path to the .mp4 of the YouTube video\n",
    "    \"\"\"\n",
    "    if not verify_audio_format(vocal_file_path):\n",
    "        raise Exception('Cannot transcribe audio with invalid file format.')\n",
    "\n",
    "    base_model = whisper.load_model('medium')\n",
    "\n",
    "    try:\n",
    "        transcription = base_model.transcribe(vocal_file_path)\n",
    "        return transcription['text']\n",
    "    except Exception as e:\n",
    "        print('Unable to transcribe audio.')\n",
    "        print(e)"
   ]
  },
  {
   "cell_type": "markdown",
   "id": "47e17776-bb14-4575-b803-685f183fe719",
   "metadata": {},
   "source": [
    "# Download YouTube Audio and Convert the Format"
   ]
  },
  {
   "cell_type": "code",
   "execution_count": 3,
   "id": "fb4da017-81a7-487a-9806-8c0ea2acbbfb",
   "metadata": {},
   "outputs": [
    {
     "name": "stdout",
     "output_type": "stream",
     "text": [
      "DOWNLOADED FILE: Wonderwall.mp4\n",
      "CONVERTED FILE: Output/Wonderwall.wav\n"
     ]
    }
   ],
   "source": [
    "url = 'https://www.youtube.com/watch?v=pat2-f0BXCg' # Asthenia - blink-182\n",
    "# url = 'https://www.youtube.com/watch?v=FVdjZYfDuLE' # Wonderwall - Oasis\n",
    "\n",
    "# create the output directory to house audio file downloads\n",
    "output_dir_path = 'Output/'\n",
    "os.makedirs(output_dir_path, exist_ok=True)\n",
    "\n",
    "# convert and download an audio file (in .mp4 format) from a youtube url\n",
    "mp4_file_path = download_youtube_audio(url, output_dir_path)\n",
    "try: print('DOWNLOADED FILE:', mp4_file_path.split('/')[-1])\n",
    "except: print('DOWNLOADED FILE:', mp4_file_path.split('\\\\')[-1])\n",
    "\n",
    "# get the name of the file without file path or file extension\n",
    "file_name, _ = os.path.splitext(os.path.basename(mp4_file_path))\n",
    "\n",
    "# set the full path of the .wav file for the audio\n",
    "wav_file_path = os.path.join(output_dir_path, file_name + '.wav')\n",
    "\n",
    "# convert the file from .mp4 to .wav\n",
    "transform_audio_format(mp4_file_path, wav_file_path)\n",
    "print('CONVERTED FILE:', wav_file_path)"
   ]
  },
  {
   "cell_type": "markdown",
   "id": "f84dcf40-4048-4009-832e-ccc87adeac6d",
   "metadata": {},
   "source": [
    "# Separate the Vocals from the music"
   ]
  },
  {
   "cell_type": "code",
   "execution_count": 4,
   "id": "257bf24b-cabb-4f4b-8d89-881df98c3843",
   "metadata": {},
   "outputs": [
    {
     "name": "stdout",
     "output_type": "stream",
     "text": [
      "INFO:spleeter:File Output/Wonderwall/vocals.wav written succesfully\n",
      "INFO:spleeter:File Output/Wonderwall/accompaniment.wav written succesfully\n"
     ]
    }
   ],
   "source": [
    "separator = Separator('spleeter:2stems')\n",
    "separator.separate_to_file(wav_file_path, 'Output/');"
   ]
  },
  {
   "cell_type": "code",
   "execution_count": 5,
   "id": "b7a4b3ed-653e-4186-b998-1d990aebe23f",
   "metadata": {},
   "outputs": [],
   "source": [
    "vocals_file_path = f\"Output/{file_name}/vocals.wav\"\n",
    "accompaniment_file_path = f\"Output/{file_name}/accompaniment.wav\""
   ]
  },
  {
   "cell_type": "markdown",
   "id": "6d2eca2c-f6a7-4054-a89b-5b45be4b925f",
   "metadata": {},
   "source": [
    "# Transcribe the Vocal Track"
   ]
  },
  {
   "cell_type": "code",
   "execution_count": 6,
   "id": "f2f524c8-a4b8-4edc-a45e-7befd491bcbc",
   "metadata": {},
   "outputs": [
    {
     "name": "stdout",
     "output_type": "stream",
     "text": [
      "\n",
      "File is in correct format.\n",
      "\n"
     ]
    },
    {
     "name": "stderr",
     "output_type": "stream",
     "text": [
      "100%|█████████████████████████████████████| 1.42G/1.42G [12:35<00:00, 2.02MiB/s]\n",
      "/Users/mattkarenbauer/anaconda3/envs/spleeter/lib/python3.8/site-packages/whisper/transcribe.py:115: UserWarning: FP16 is not supported on CPU; using FP32 instead\n",
      "  warnings.warn(\"FP16 is not supported on CPU; using FP32 instead\")\n"
     ]
    },
    {
     "name": "stdout",
     "output_type": "stream",
     "text": [
      " Today is gonna be the day that they're gonna throw it back to you I don't believe that anybody feels the way I do about you now Backbeat the word is on the street that the fire in your heart is out I'm sure you've heard it all before but you never really had a doubt I don't believe that anybody feels the way I do about you now And all the roads we have to walk are winding And all the lights I need to stare at blinding There are many things that I would like to say to you but I don't know how Cos maybe you're gonna be the one that saves me And after all you're my Wonderwall Today is gonna be the day that they're gonna throw it back to you By now you should have somehow realized what you're not to do I don't believe that anybody feels the way I do about you now And all the roads that lead you there were winding And all the lights that light the way of blinding There are many things that I would like to say to you but I don't know how Cos maybe you're gonna be the one that saves me And after all you're my Wonderwall I said maybe you're gonna be the one that saves me And after all you're my Wonderwall I said maybe you're gonna be the one that saves me You're gonna be the one that saves me You're gonna be the one that saves me You're gonna be the one that saves me\n"
     ]
    },
    {
     "name": "stderr",
     "output_type": "stream",
     "text": [
      "Process SpawnPoolWorker-2:\n",
      "Traceback (most recent call last):\n",
      "  File \"/Users/mattkarenbauer/anaconda3/envs/spleeter/lib/python3.8/multiprocessing/process.py\", line 315, in _bootstrap\n",
      "    self.run()\n",
      "  File \"/Users/mattkarenbauer/anaconda3/envs/spleeter/lib/python3.8/multiprocessing/process.py\", line 108, in run\n",
      "    self._target(*self._args, **self._kwargs)\n",
      "  File \"/Users/mattkarenbauer/anaconda3/envs/spleeter/lib/python3.8/multiprocessing/pool.py\", line 114, in worker\n",
      "    task = get()\n",
      "  File \"/Users/mattkarenbauer/anaconda3/envs/spleeter/lib/python3.8/multiprocessing/queues.py\", line 355, in get\n",
      "    with self._rlock:\n",
      "  File \"/Users/mattkarenbauer/anaconda3/envs/spleeter/lib/python3.8/multiprocessing/synchronize.py\", line 95, in __enter__\n",
      "    return self._semlock.__enter__()\n",
      "KeyboardInterrupt\n",
      "Process SpawnPoolWorker-8:\n",
      "Traceback (most recent call last):\n",
      "  File \"/Users/mattkarenbauer/anaconda3/envs/spleeter/lib/python3.8/multiprocessing/process.py\", line 315, in _bootstrap\n",
      "    self.run()\n",
      "  File \"/Users/mattkarenbauer/anaconda3/envs/spleeter/lib/python3.8/multiprocessing/process.py\", line 108, in run\n",
      "    self._target(*self._args, **self._kwargs)\n",
      "  File \"/Users/mattkarenbauer/anaconda3/envs/spleeter/lib/python3.8/multiprocessing/pool.py\", line 114, in worker\n",
      "    task = get()\n",
      "  File \"/Users/mattkarenbauer/anaconda3/envs/spleeter/lib/python3.8/multiprocessing/queues.py\", line 355, in get\n",
      "    with self._rlock:\n",
      "  File \"/Users/mattkarenbauer/anaconda3/envs/spleeter/lib/python3.8/multiprocessing/synchronize.py\", line 95, in __enter__\n",
      "    return self._semlock.__enter__()\n",
      "KeyboardInterrupt\n",
      "Process SpawnPoolWorker-1:\n",
      "Traceback (most recent call last):\n",
      "  File \"/Users/mattkarenbauer/anaconda3/envs/spleeter/lib/python3.8/multiprocessing/process.py\", line 315, in _bootstrap\n",
      "    self.run()\n",
      "  File \"/Users/mattkarenbauer/anaconda3/envs/spleeter/lib/python3.8/multiprocessing/process.py\", line 108, in run\n",
      "    self._target(*self._args, **self._kwargs)\n",
      "  File \"/Users/mattkarenbauer/anaconda3/envs/spleeter/lib/python3.8/multiprocessing/pool.py\", line 114, in worker\n",
      "    task = get()\n",
      "  File \"/Users/mattkarenbauer/anaconda3/envs/spleeter/lib/python3.8/multiprocessing/queues.py\", line 355, in get\n",
      "    with self._rlock:\n",
      "  File \"/Users/mattkarenbauer/anaconda3/envs/spleeter/lib/python3.8/multiprocessing/synchronize.py\", line 95, in __enter__\n",
      "    return self._semlock.__enter__()\n",
      "KeyboardInterrupt\n",
      "Process SpawnPoolWorker-7:\n",
      "Traceback (most recent call last):\n",
      "  File \"/Users/mattkarenbauer/anaconda3/envs/spleeter/lib/python3.8/multiprocessing/process.py\", line 315, in _bootstrap\n",
      "    self.run()\n",
      "  File \"/Users/mattkarenbauer/anaconda3/envs/spleeter/lib/python3.8/multiprocessing/process.py\", line 108, in run\n",
      "    self._target(*self._args, **self._kwargs)\n",
      "  File \"/Users/mattkarenbauer/anaconda3/envs/spleeter/lib/python3.8/multiprocessing/pool.py\", line 114, in worker\n",
      "    task = get()\n",
      "  File \"/Users/mattkarenbauer/anaconda3/envs/spleeter/lib/python3.8/multiprocessing/queues.py\", line 355, in get\n",
      "    with self._rlock:\n",
      "  File \"/Users/mattkarenbauer/anaconda3/envs/spleeter/lib/python3.8/multiprocessing/synchronize.py\", line 95, in __enter__\n",
      "    return self._semlock.__enter__()\n",
      "KeyboardInterrupt\n",
      "Process SpawnPoolWorker-3:\n",
      "Traceback (most recent call last):\n",
      "  File \"/Users/mattkarenbauer/anaconda3/envs/spleeter/lib/python3.8/multiprocessing/process.py\", line 315, in _bootstrap\n",
      "    self.run()\n",
      "  File \"/Users/mattkarenbauer/anaconda3/envs/spleeter/lib/python3.8/multiprocessing/process.py\", line 108, in run\n",
      "    self._target(*self._args, **self._kwargs)\n",
      "  File \"/Users/mattkarenbauer/anaconda3/envs/spleeter/lib/python3.8/multiprocessing/pool.py\", line 114, in worker\n",
      "    task = get()\n",
      "  File \"/Users/mattkarenbauer/anaconda3/envs/spleeter/lib/python3.8/multiprocessing/queues.py\", line 356, in get\n",
      "    res = self._reader.recv_bytes()\n",
      "  File \"/Users/mattkarenbauer/anaconda3/envs/spleeter/lib/python3.8/multiprocessing/connection.py\", line 216, in recv_bytes\n",
      "    buf = self._recv_bytes(maxlength)\n",
      "  File \"/Users/mattkarenbauer/anaconda3/envs/spleeter/lib/python3.8/multiprocessing/connection.py\", line 414, in _recv_bytes\n",
      "    buf = self._recv(4)\n",
      "  File \"/Users/mattkarenbauer/anaconda3/envs/spleeter/lib/python3.8/multiprocessing/connection.py\", line 379, in _recv\n",
      "    chunk = read(handle, remaining)\n",
      "KeyboardInterrupt\n",
      "Process SpawnPoolWorker-6:\n",
      "Traceback (most recent call last):\n",
      "  File \"/Users/mattkarenbauer/anaconda3/envs/spleeter/lib/python3.8/multiprocessing/process.py\", line 315, in _bootstrap\n",
      "    self.run()\n",
      "  File \"/Users/mattkarenbauer/anaconda3/envs/spleeter/lib/python3.8/multiprocessing/process.py\", line 108, in run\n",
      "    self._target(*self._args, **self._kwargs)\n",
      "  File \"/Users/mattkarenbauer/anaconda3/envs/spleeter/lib/python3.8/multiprocessing/pool.py\", line 114, in worker\n",
      "    task = get()\n",
      "  File \"/Users/mattkarenbauer/anaconda3/envs/spleeter/lib/python3.8/multiprocessing/queues.py\", line 355, in get\n",
      "    with self._rlock:\n",
      "  File \"/Users/mattkarenbauer/anaconda3/envs/spleeter/lib/python3.8/multiprocessing/synchronize.py\", line 95, in __enter__\n",
      "    return self._semlock.__enter__()\n",
      "KeyboardInterrupt\n",
      "Process SpawnPoolWorker-4:\n",
      "Traceback (most recent call last):\n",
      "  File \"/Users/mattkarenbauer/anaconda3/envs/spleeter/lib/python3.8/multiprocessing/process.py\", line 315, in _bootstrap\n",
      "    self.run()\n",
      "  File \"/Users/mattkarenbauer/anaconda3/envs/spleeter/lib/python3.8/multiprocessing/process.py\", line 108, in run\n",
      "    self._target(*self._args, **self._kwargs)\n",
      "  File \"/Users/mattkarenbauer/anaconda3/envs/spleeter/lib/python3.8/multiprocessing/pool.py\", line 114, in worker\n",
      "    task = get()\n",
      "  File \"/Users/mattkarenbauer/anaconda3/envs/spleeter/lib/python3.8/multiprocessing/queues.py\", line 355, in get\n",
      "    with self._rlock:\n",
      "  File \"/Users/mattkarenbauer/anaconda3/envs/spleeter/lib/python3.8/multiprocessing/synchronize.py\", line 95, in __enter__\n",
      "    return self._semlock.__enter__()\n",
      "KeyboardInterrupt\n",
      "Process SpawnPoolWorker-5:\n",
      "Traceback (most recent call last):\n",
      "  File \"/Users/mattkarenbauer/anaconda3/envs/spleeter/lib/python3.8/multiprocessing/process.py\", line 315, in _bootstrap\n",
      "    self.run()\n",
      "  File \"/Users/mattkarenbauer/anaconda3/envs/spleeter/lib/python3.8/multiprocessing/process.py\", line 108, in run\n",
      "    self._target(*self._args, **self._kwargs)\n",
      "  File \"/Users/mattkarenbauer/anaconda3/envs/spleeter/lib/python3.8/multiprocessing/pool.py\", line 114, in worker\n",
      "    task = get()\n",
      "  File \"/Users/mattkarenbauer/anaconda3/envs/spleeter/lib/python3.8/multiprocessing/queues.py\", line 355, in get\n",
      "    with self._rlock:\n",
      "  File \"/Users/mattkarenbauer/anaconda3/envs/spleeter/lib/python3.8/multiprocessing/synchronize.py\", line 95, in __enter__\n",
      "    return self._semlock.__enter__()\n",
      "KeyboardInterrupt\n"
     ]
    }
   ],
   "source": [
    "transform_audio_format(vocals_file_path, vocals_file_path)\n",
    "\n",
    "transcription = transcribe_audio(vocals_file_path)\n",
    "print(transcription)"
   ]
  }
 ],
 "metadata": {
  "kernelspec": {
   "display_name": "Python [conda env:spleeter] *",
   "language": "python",
   "name": "conda-env-spleeter-py"
  },
  "language_info": {
   "codemirror_mode": {
    "name": "ipython",
    "version": 3
   },
   "file_extension": ".py",
   "mimetype": "text/x-python",
   "name": "python",
   "nbconvert_exporter": "python",
   "pygments_lexer": "ipython3",
   "version": "3.8.19"
  }
 },
 "nbformat": 4,
 "nbformat_minor": 5
}
